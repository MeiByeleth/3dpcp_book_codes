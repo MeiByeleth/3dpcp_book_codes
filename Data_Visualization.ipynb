{
  "nbformat": 4,
  "nbformat_minor": 0,
  "metadata": {
    "colab": {
      "provenance": [],
      "authorship_tag": "ABX9TyMfNYPgeYyhu2t4/udFp0ef",
      "include_colab_link": true
    },
    "kernelspec": {
      "name": "python3",
      "display_name": "Python 3"
    },
    "language_info": {
      "name": "python"
    }
  },
  "cells": [
    {
      "cell_type": "markdown",
      "metadata": {
        "id": "view-in-github",
        "colab_type": "text"
      },
      "source": [
        "<a href=\"https://colab.research.google.com/github/MeiByeleth/3dpcp_book_codes/blob/master/Data_Visualization.ipynb\" target=\"_parent\"><img src=\"https://colab.research.google.com/assets/colab-badge.svg\" alt=\"Open In Colab\"/></a>"
      ]
    },
    {
      "cell_type": "code",
      "source": [
        "import matplotlib.pyplot as plt\n",
        "import matplotlib.patches as patches\n",
        "# Create a figure and an axis\n",
        "fig, ax = plt.subplots()\n",
        "\n",
        "# Set the background color to green\n",
        "fig.patch.set_facecolor('green')\n",
        "ax.set_facecolor('green')\n",
        "\n",
        "# Define the coordinates and sizes for the yellow parallelograms (connected)\n",
        "shapes = [\n",
        "    ((0.2, 0.7), 0.3, 0.15),\n",
        "    ((0.35, 0.525), 0.3, 0.15),\n",
        "    ((0.5, 0.35), 0.3, 0.15)\n",
        "]\n",
        "\n",
        "# Add the yellow parallelograms to the plot (flipped horizontally)\n",
        "for (x, y), width, height in shapes:\n",
        "    polygon = patches.Polygon([\n",
        "        (x + width, y), (x + width * 0.2, y), (x, y - height), (x + width * 0.8, y - height)\n",
        "    ], closed=True, linewidth=1, edgecolor='none', facecolor='yellow')\n",
        "    ax.add_patch(polygon)\n",
        "\n",
        "# Remove axes\n",
        "ax.set_xticks([])\n",
        "ax.set_yticks([])\n",
        "\n",
        "# Show the plot\n",
        "plt.axis('off')\n",
        "plt.show()\n"
      ],
      "metadata": {
        "colab": {
          "base_uri": "https://localhost:8080/",
          "height": 406
        },
        "id": "mWexbaqHJs5c",
        "outputId": "0423c514-d86a-4ad1-d537-3c2d2c5af230"
      },
      "execution_count": null,
      "outputs": [
        {
          "output_type": "display_data",
          "data": {
            "text/plain": [
              "<Figure size 640x480 with 1 Axes>"
            ],
            "image/png": "[encoded data removed]"
          },
          "metadata": {}
        }
      ]
    },
    {
      "cell_type": "code",
      "source": [],
      "metadata": {
        "id": "eQUBUAITOnHE"
      },
      "execution_count": null,
      "outputs": []
    },
    {
      "cell_type": "markdown",
      "source": [
        "# 講義: Pythonによる高度なデータ可視化 - エクセル分析を超えて\n",
        "\n",
        "## 目次\n",
        "1. 導入\n",
        "2. なぜエクセルの分析では足りないのか？\n",
        "3. Python環境のセットアップ\n",
        "4. 基本的なデータ操作\n",
        "5. 基本的なデータ可視化\n",
        "6. 応用的なデータ可視化\n",
        "7. ケーススタディ\n",
        "8. まとめと質疑応答\n",
        "\n",
        "---\n",
        "\n",
        "## 1. 導入 (30分)\n",
        "- 講義の目的と内容の説明\n",
        "- 自己紹介\n",
        "- 参加者の自己紹介と期待することの共有\n",
        "- データ可視化の重要性について\n",
        "  - データの理解とコミュニケーションのツールとしての役割\n",
        "  - データ可視化の歴史と現代のツール\n",
        "\n",
        "---\n",
        "\n",
        "## 2. なぜエクセルの分析では足りないのか？ (20分)\n",
        "- エクセルの利点と限界\n",
        "  - 手軽さと利用しやすさ\n",
        "  - 大規模データの処理限界\n",
        "  - 複雑なデータ操作の難しさ\n",
        "  - 再現性と自動化の課題\n",
        "- Pythonによるデータ分析・可視化の利点\n",
        "  - ライブラリの豊富さ (Pandas, Matplotlib, Seaborn, Plotlyなど)\n",
        "  - 大規模データの処理能力\n",
        "  - スクリプトによる再現性と自動化の容易さ\n",
        "\n",
        "---\n",
        "\n",
        "## 3. Python環境のセットアップ (20分)\n",
        "- Pythonのインストール方法\n",
        "- Jupyter Notebookのインストールと基本操作\n",
        "- 必要なライブラリのインストールとインポート方法\n",
        "\n",
        "---\n",
        "\n",
        "## 4. 基本的なデータ操作 (30分)\n",
        "- Pandasによるデータの読み込みと基本操作\n",
        "  - CSV, Excel, SQLデータの読み込み\n",
        "  - データフレームの基本操作 (フィルタリング、ソート、グルーピング)\n",
        "- データのクリーニングと前処理\n",
        "  - 欠損値の処理\n",
        "  - 重複データの削除\n",
        "  - データ型の変換\n",
        "\n",
        "---\n",
        "\n",
        "## 5. 基本的なデータ可視化 (30分)\n",
        "- Matplotlibの基本\n",
        "  - グラフの種類と基本的な作成方法 (折れ線グラフ、棒グラフ、ヒストグラムなど)\n",
        "  - カスタマイズ方法 (軸ラベル、タイトル、凡例、色)\n",
        "- Seabornの基本\n",
        "  - 統計的なプロットの作成 (ヒートマップ、ペアプロット、ボックスプロットなど)\n",
        "  - 美しいデフォルトスタイルとテーマの設定\n",
        "\n",
        "---\n",
        "\n",
        "## 休憩 (10分)\n",
        "\n",
        "---\n",
        "\n",
        "## 6. 応用的なデータ可視化 (40分)\n",
        "- 複雑なグラフの作成\n",
        "  - 多重軸プロット\n",
        "  - サブプロットの作成\n",
        "- インタラクティブなプロット\n",
        "  - Plotlyによるインタラクティブなグラフ作成\n",
        "  - Dashを使ったWebアプリケーションの紹介\n",
        "\n",
        "---\n",
        "\n",
        "## 7. ケーススタディ (30分)\n",
        "- 実際のデータを使ったデータ可視化の事例紹介\n",
        "  - データの読み込みから可視化までの一連の流れ\n",
        "  - 解釈と洞察の引き出し方\n",
        "  - 質疑応答とディスカッション\n",
        "\n",
        "---\n",
        "\n",
        "## 8. まとめと質疑応答 (20分)\n",
        "- 本日の講義内容のまとめ\n",
        "- 今後の学習リソースの紹介\n",
        "  - 書籍、オンラインコース、コミュニティ\n",
        "- 質疑応答\n",
        "\n"
      ],
      "metadata": {
        "id": "X3xlsBIsLjtF"
      }
    },
    {
      "cell_type": "markdown",
      "source": [],
      "metadata": {
        "id": "LlQ7Ho26L1la"
      }
    },
    {
      "cell_type": "markdown",
      "source": [
        "# なぜデータを可視化する必要があるか\n",
        "\n",
        "A.データサイエンティストは最初にみんなやっているから。\n",
        "\n",
        "Q.なんでやってるの？\n",
        "\n",
        "A.機械学習のモデルに入れるときにそのまま入れられないから。\n",
        "A.特徴量エンジニアリングで必須だから。\n",
        "\n",
        "Q.なんで入れられないの？\n",
        "\n",
        "A.業務で使うデータを機械学習のモデルに入れようとしても、データの入力のし忘れ（欠損値）や、入力ミス、外れ値があったりするから。（Netflixのデータ分析の例）を上げる"
      ],
      "metadata": {
        "id": "wW8Hmw__d80k"
      }
    },
    {
      "cell_type": "code",
      "source": [],
      "metadata": {
        "id": "0R1vFcyCfy8p"
      },
      "execution_count": null,
      "outputs": []
    },
    {
      "cell_type": "markdown",
      "source": [
        "Q.なんでエクセルではなくPythonを使う必要があるの？\n",
        "\n",
        "A.エクセルでもいい点はある。が、Pythonの方が高度な分析がしやすい。+大量のデータを扱える。\n",
        "簡単にデータが見たいって話で話であれば、いちいちPython上でやったりはしない。\n",
        "\n",
        "Q.高度な分析って何ができる？\n",
        "\n",
        "A.データを加工して、そのまま機械学習モデルに読み込ませる、ができる"
      ],
      "metadata": {
        "id": "l7erGin2eaaC"
      }
    },
    {
      "cell_type": "markdown",
      "source": [
        "## 使うライブラリ\n",
        "\n",
        "### pandas\n",
        "パンダスと読みます。\n",
        "\n",
        "名前の由来は宮崎県の\n",
        "宮崎市フェニックス自然動物園のパンダを見て「データ分析に白黒つけたい！」的な意味合いを込めて付けられたそうです。\n",
        "\n",
        "# 嘘です。\n",
        "Pan(el)-da(ta)から由来があります。同一の標本について、複数の項目を継続的に調べて記録したデータ。超ざっくり言えば表形式のデータと理解したいただければ大丈夫。\n",
        "\n",
        "出典：https://www.stat.go.jp/naruhodo/4_graph/data.html#:~:text=%E4%B8%80%E8%88%AC%E7%9A%84%E3%81%AB%E3%83%91%E3%83%8D%E3%83%AB%E3%83%87%E3%83%BC%E3%82%BF,%E3%81%99%E3%82%8B%E3%81%93%E3%81%A8%E3%81%8C%E3%81%A7%E3%81%8D%E3%81%BE%E3%81%99%E3%80%82\n",
        "\n",
        "出典\n",
        "Wes McKinney (2011年). “pandas: a Foundational Python Library for Data Analysis and Statistics”.\n",
        "pandasの製作者。\n",
        "\n",
        "データを読み込み＋加工します。\n",
        "\n",
        "### matplotlib\n",
        "マットプロットリブと読みます。\n",
        "データをグラフなどを用いて可視化をするライブラリ。\n",
        "\n",
        "だけども書き方はmatplotlib.pyplot。\n",
        "理由は\n"
      ],
      "metadata": {
        "id": "57Kk21ytiyTu"
      }
    },
    {
      "cell_type": "code",
      "source": [
        "matplotlib.pyplot"
      ],
      "metadata": {
        "id": "nMLLoM4hJ5_M"
      },
      "execution_count": null,
      "outputs": []
    },
    {
      "cell_type": "markdown",
      "source": [
        "### pandas\n",
        "表計算を行うライブラリ。\n",
        "\n",
        "```python\n",
        "import pandas as pd\n",
        "```\n",
        "と呼び出す。\n",
        "\n",
        "\n",
        "ちなみにimoprt文も省略してかけるが、長いのでお勧めしません。"
      ],
      "metadata": {
        "id": "stvUbrplY509"
      }
    },
    {
      "cell_type": "markdown",
      "source": [
        "## 実際に書いてみよう\n",
        "\n",
        "pandasの流れは以下の通り。\n",
        "\n",
        "1. データを読み込む\n",
        "2. データを確認する\n",
        "3. データを加工する（後半で解説します。）\n",
        "\n",
        "\n"
      ],
      "metadata": {
        "id": "N6F0xHKdgDSw"
      }
    },
    {
      "cell_type": "markdown",
      "source": [
        "# 1.データを読み込む\n",
        "\n",
        "データを読み込む。表のような形式。ただし形式はxlsxではなくcsvとする。\n",
        "![スクリーンショット 2024-08-03 15.50.09.png](data:image/png;base64,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)"
      ],
      "metadata": {
        "id": "GNiPPWVWkMvk"
      }
    },
    {
      "cell_type": "markdown",
      "source": [
        "\n",
        "アップロードをしてから作業をしてください。\n",
        "\n",
        "### 作業手順\n",
        "\n",
        "\n",
        "アップロードしたファイルは`content`のフォルダの中に保存されます。"
      ],
      "metadata": {
        "id": "b079IYF5Aadv"
      }
    },
    {
      "cell_type": "code",
      "execution_count": null,
      "metadata": {
        "id": "Nrn3tthgGK1z",
        "colab": {
          "base_uri": "https://localhost:8080/"
        },
        "outputId": "ed38b330-a420-4bd5-f6ef-713119163cd1"
      },
      "outputs": [
        {
          "output_type": "stream",
          "name": "stdout",
          "text": [
            "   名前  年齢       職業\n",
            "0  佐藤  26  ITエンジニア\n",
            "1  田中  32    デザイナー\n",
            "2  鈴木  43       営業\n"
          ]
        }
      ],
      "source": [
        "import pandas as pd\n",
        "\n",
        "# CSVファイルを読み込む(1.データを読み込む)\n",
        "file_path = '/content/data-visualization1.csv'\n",
        "df = pd.read_csv(file_path)\n",
        "\n",
        "# データの確認(2.データを確認する)\n",
        "print(df)"
      ]
    },
    {
      "cell_type": "markdown",
      "source": [
        "## コードの解説\n",
        "\n",
        "\n",
        "### ライブラリの読み込み\n",
        "```python\n",
        "import pandas as pd\n",
        "```\n",
        "pandasライブラリを読み込んでいます。\n",
        "\n",
        "`as pd`と書くと`pd`コード上で省略してかける。\n",
        "as pdと書かない場合は以下の通りになります。\n",
        "\n",
        "```python\n",
        "import pandas as pd\n",
        "\n",
        "# CSVファイルを読み込む\n",
        "file_path = '/content/data-visualization1.csv'\n",
        "df = pd.read_csv(file_path)\n",
        "\n",
        "# データの確認\n",
        "print(df)\n",
        "```\n",
        "\n",
        "### 1.データの読み込み\n",
        "```python\n",
        "# CSVファイルを読み込む\n",
        "file_path = '/content/data-visualization1.csv'\n",
        "df = pd.read_csv(file_path)\n",
        "```\n",
        "\n",
        "`file_path`にはファイルがある場所とファイル名を書きます。\n",
        "\n",
        "```python\n",
        "# CSVファイルを読み込む\n",
        "df = pd.read_csv('/content/data-visualization1.csv')\n",
        "```\n",
        "のように直接かけたりできます。\n",
        "ただ、コードで何箇所も読み込んだり書き込んだりのような作業があったりすると、いちいち書き換えるのが手間なので、`file_path`に場所を書いています。\n",
        "\n",
        "\n",
        "df:DataFrame、表形式のデータを効率的に扱うためのデータ構造で、行と列から成る二次元のラベル付きデータ構造です。\n",
        "\n",
        "read_csv:pandasライブラリの関数で、CSV（Comma-Separated Values）ファイルを読み込んで DataFrame を作成するために使用。\n",
        "\n",
        "他にも`read_excel`があります。エクセルのシートを読み取れます。\n",
        "\n",
        "\n",
        "\n",
        "\n",
        "```python\n",
        "print(df)\n",
        "```\n",
        "こちらでDataFrameを出力します。"
      ],
      "metadata": {
        "id": "mpA1Q3SEguhX"
      }
    },
    {
      "cell_type": "code",
      "source": [],
      "metadata": {
        "colab": {
          "base_uri": "https://localhost:8080/"
        },
        "id": "bMn2OdYLghVV",
        "outputId": "b87c53ad-ec73-4aea-9bd9-482f8fbbe1fd"
      },
      "execution_count": null,
      "outputs": [
        {
          "output_type": "stream",
          "name": "stdout",
          "text": [
            "   名前  年齢       職業\n",
            "0  田中  28    エンジニア\n",
            "1  鈴木  34    デザイナー\n",
            "2  佐藤  22  マーケティング\n"
          ]
        }
      ]
    },
    {
      "cell_type": "markdown",
      "source": [
        "## 問題\n",
        "`data-visualization2.csv`をgoogle colab上にアップロードし、pandasのDataFrameに格納して、出力してください。"
      ],
      "metadata": {
        "id": "38vVQB8VE28u"
      }
    },
    {
      "cell_type": "code",
      "source": [
        "import pandas as pd\n",
        "\n",
        "# CSVファイルを読み込む\n",
        "\n",
        "\n",
        "# データの確認\n",
        "print(df)"
      ],
      "metadata": {
        "id": "SaXjpU0nFHNZ"
      },
      "execution_count": null,
      "outputs": []
    },
    {
      "cell_type": "code",
      "source": [
        "import pandas as pd\n",
        "\n",
        "# CSVファイルを読み込む\n",
        "file_path = '/content/data-visualization2.csv'\n",
        "df = pd.read_csv(file_path)\n",
        "\n",
        "# データの確認\n",
        "print(df)"
      ],
      "metadata": {
        "colab": {
          "base_uri": "https://localhost:8080/"
        },
        "id": "doVvSuUbXIb1",
        "outputId": "26933727-940b-4a2c-e1c8-f1db5337dcf5"
      },
      "execution_count": null,
      "outputs": [
        {
          "output_type": "stream",
          "name": "stdout",
          "text": [
            "   名前  年齢       職業\n",
            "0  斉藤  23    デザイナー\n",
            "1  小川  45  ITエンジニア\n",
            "2  清水  32       営業\n"
          ]
        }
      ]
    },
    {
      "cell_type": "markdown",
      "source": [],
      "metadata": {
        "id": "BvYI5iW9XW0r"
      }
    }
  ]
}